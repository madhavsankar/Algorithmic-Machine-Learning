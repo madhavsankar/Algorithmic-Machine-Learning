{
 "cells": [
  {
   "cell_type": "code",
   "execution_count": 1,
   "metadata": {
    "colab": {
     "base_uri": "https://localhost:8080/"
    },
    "id": "NQd4DTlRC2MV",
    "outputId": "4d34674d-2f86-4d87-df1e-20f0ef22d8f2"
   },
   "outputs": [
    {
     "name": "stdout",
     "output_type": "stream",
     "text": [
      "Collecting celluloid\n",
      "  Downloading celluloid-0.2.0-py3-none-any.whl (5.4 kB)\n",
      "Requirement already satisfied: matplotlib in /usr/local/lib/python3.7/dist-packages (from celluloid) (3.2.2)\n",
      "Requirement already satisfied: cycler>=0.10 in /usr/local/lib/python3.7/dist-packages (from matplotlib->celluloid) (0.11.0)\n",
      "Requirement already satisfied: python-dateutil>=2.1 in /usr/local/lib/python3.7/dist-packages (from matplotlib->celluloid) (2.8.2)\n",
      "Requirement already satisfied: pyparsing!=2.0.4,!=2.1.2,!=2.1.6,>=2.0.1 in /usr/local/lib/python3.7/dist-packages (from matplotlib->celluloid) (3.0.8)\n",
      "Requirement already satisfied: kiwisolver>=1.0.1 in /usr/local/lib/python3.7/dist-packages (from matplotlib->celluloid) (1.4.2)\n",
      "Requirement already satisfied: numpy>=1.11 in /usr/local/lib/python3.7/dist-packages (from matplotlib->celluloid) (1.21.6)\n",
      "Requirement already satisfied: typing-extensions in /usr/local/lib/python3.7/dist-packages (from kiwisolver>=1.0.1->matplotlib->celluloid) (4.2.0)\n",
      "Requirement already satisfied: six>=1.5 in /usr/local/lib/python3.7/dist-packages (from python-dateutil>=2.1->matplotlib->celluloid) (1.15.0)\n",
      "Installing collected packages: celluloid\n",
      "Successfully installed celluloid-0.2.0\n"
     ]
    }
   ],
   "source": [
    "!pip install celluloid\n",
    "import numpy as np\n",
    "import scipy as scipy\n",
    "import matplotlib\n",
    "import matplotlib.pyplot as plt\n",
    "from matplotlib import cm\n",
    "from matplotlib.ticker import LinearLocator\n",
    "from mpl_toolkits.mplot3d import Axes3D\n",
    "import gzip\n",
    "from sklearn.preprocessing import OneHotEncoder\n",
    "from scipy.special import expit\n",
    "import celluloid\n",
    "from celluloid import Camera\n",
    "from matplotlib import animation\n",
    "from IPython.display import HTML\n",
    "from matplotlib.lines import Line2D\n",
    "\n",
    "np.random.seed(2021)\n",
    "\n",
    "def lplot(Ys,labels=['1','2','3','4','5','6'],ylabel='Function value'):\n",
    "    \"\"\"Line plot of the Y values. (Same as above, but no animation).\n",
    "    Ys is a list where each element is an array of numbers to plot.\n",
    "    \"\"\"\n",
    "    colors = ['blue','red','green','black','cyan','purple','pink']\n",
    "    fig, ax = plt.subplots(figsize=(6,6))\n",
    "    T = len(Ys[0])\n",
    "    plt.yscale('log')\n",
    "    handles = []\n",
    "    for i in range(len(Ys)):\n",
    "        handles.append(Line2D([0], [0], color=colors[i], label=labels[i]))\n",
    "    plt.legend(handles = handles, loc = 'upper right')\n",
    "    plt.xlabel('Step')\n",
    "    plt.ylabel(ylabel)\n",
    "    for j in range(len(Ys)):\n",
    "        plt.plot(range(T),Ys[j][:T],color=colors[j],marker='o')"
   ]
  },
  {
   "cell_type": "code",
   "execution_count": null,
   "metadata": {
    "id": "owfAzZDGC-KC"
   },
   "outputs": [],
   "source": [
    "def power_iteration(U, G, v0, T=100):\n",
    "    vs = [v0]\n",
    "    v = v0\n",
    "    Ut = np.transpose(U)\n",
    "    \n",
    "    for i in range(T):\n",
    "        u = Ut.dot(v)\n",
    "        u = U.dot(u)\n",
    "        u = u + G.dot(v)\n",
    "        v = u/np.linalg.norm(u)\n",
    "        vs.append(v)\n",
    "\n",
    "    return np.array(vs)\n",
    "\n",
    "def scipy_default(X):\n",
    "    u,s,vt = scipy.sparse.linalg.svds(X,k=1)\n",
    "    return np.transpose(vt)"
   ]
  },
  {
   "cell_type": "markdown",
   "metadata": {
    "id": "1h8oaWgg1kfR"
   },
   "source": [
    "# Test Run: T = 1000"
   ]
  },
  {
   "cell_type": "code",
   "execution_count": null,
   "metadata": {
    "colab": {
     "base_uri": "https://localhost:8080/",
     "height": 513
    },
    "id": "uAqtNCA2DC7h",
    "outputId": "2269d7ac-a898-48dd-fb21-87df36fd5f3b"
   },
   "outputs": [
    {
     "name": "stdout",
     "output_type": "stream",
     "text": [
      "[[0. 0. 0. ... 0. 0. 0.]\n",
      " [0. 0. 0. ... 0. 0. 0.]\n",
      " [0. 0. 0. ... 0. 0. 0.]\n",
      " ...\n",
      " [0. 0. 0. ... 0. 0. 0.]\n",
      " [0. 0. 0. ... 0. 0. 0.]\n",
      " [0. 0. 0. ... 0. 0. 0.]]\n"
     ]
    },
    {
     "data": {
      "image/png": "[encoded data removed]",
      "text/plain": [
       "<Figure size 432x432 with 1 Axes>"
      ]
     },
     "metadata": {
      "needs_background": "light"
     },
     "output_type": "display_data"
    }
   ],
   "source": [
    "lrs = [0.1]\n",
    "\n",
    "n = 10000\n",
    "p = .01\n",
    "R = np.random.rand(n, n)\n",
    "O = np.zeros((n, n))\n",
    "O[R < p] = 1\n",
    "G = np.random.normal(0, 1, (n,n))\n",
    "G[O == 0] = 0\n",
    "print(G)\n",
    "\n",
    "k = 20\n",
    "U = np.random.normal(0, 1, (n,k))\n",
    "Z = (U @ U.T) + G\n",
    "\n",
    "T = 1000\n",
    "\n",
    "distances1 = []\n",
    "s1 = []\n",
    "v0 = np.random.normal(0,1,(n,1))\n",
    "v0 = v0/np.linalg.norm(v0)\n",
    "\n",
    "vtrue = scipy_default(Z)\n",
    "\n",
    "Vs = power_iteration(U, G, v0, T)\n",
    "\n",
    "dist_pi= [np.linalg.norm(np.abs(v) - np.abs(vtrue)) for v in Vs]\n",
    "distances1.append(dist_pi)\n",
    "s1.append(f'Power iteration')\n",
    "\n",
    "lplot(distances1,s1,'Distance to optimum')"
   ]
  },
  {
   "cell_type": "markdown",
   "metadata": {
    "id": "xzD9mLgg1tH3"
   },
   "source": [
    "# 5a. Timing table"
   ]
  },
  {
   "cell_type": "code",
   "execution_count": null,
   "metadata": {
    "colab": {
     "base_uri": "https://localhost:8080/"
    },
    "id": "T0NISNALRLRj",
    "outputId": "8fb2ebef-9ce7-4c7c-e4bc-989019271f2d"
   },
   "outputs": [
    {
     "name": "stdout",
     "output_type": "stream",
     "text": [
      "T        Time           \n",
      "In-built 6.122656726837159\n",
      "10       0.611600136756897\n",
      "20       1.2323015213012696\n",
      "30       1.834072232246399\n",
      "40       2.435634708404541\n",
      "50       3.0591841459274294\n",
      "60       3.6913986682891844\n",
      "70       4.280641365051269\n",
      "80       4.8633181095123295\n",
      "90       5.455540823936462\n",
      "100      6.042231750488281\n"
     ]
    }
   ],
   "source": [
    "import time\n",
    "\n",
    "n = 10000\n",
    "p = .01\n",
    "R = np.random.rand(n, n)\n",
    "O = np.zeros((n, n))\n",
    "O[R < p] = 1\n",
    "G = np.random.normal(0, 1, (n,n))\n",
    "G[O == 0] = 0\n",
    "\n",
    "k = 20\n",
    "U = np.random.normal(0, 1, (n,k))\n",
    "Z = (U @ U.T) + G\n",
    "\n",
    "T = 1000\n",
    "\n",
    "distances1 = []\n",
    "s1 = []\n",
    "v0 = np.random.normal(0,1,(n,1))\n",
    "v0 = v0/np.linalg.norm(v0)\n",
    "\n",
    "Ts = np.arange(10, 110, 10)\n",
    "\n",
    "times = [0] * 11\n",
    "\n",
    "start = time.time();\n",
    "for i in range(10):\n",
    "    vtrue = scipy_default(Z)\n",
    "end = time.time()\n",
    "times[0] = (end - start) / 10\n",
    "\n",
    "index = 1\n",
    "for T in Ts:\n",
    "    start = time.time()\n",
    "    for i in range(10):\n",
    "        Vs = power_iteration(U, G, v0, T)\n",
    "    end = time.time()\n",
    "    times[index] = (end - start) / 10\n",
    "    index = index + 1\n",
    "\n",
    "print (\"{:<8} {:<15}\".format('T', 'Time'))\n",
    "print (\"{:<8} {:<15}\".format('In-built', times[0]))\n",
    "for i in range(1, 11):\n",
    "    print (\"{:<8} {:<15}\".format(Ts[i-1], times[i]))"
   ]
  },
  {
   "cell_type": "markdown",
   "metadata": {
    "id": "gHXyuPGt12Xh"
   },
   "source": [
    "5b. Error Plots"
   ]
  },
  {
   "cell_type": "code",
   "execution_count": null,
   "metadata": {
    "colab": {
     "base_uri": "https://localhost:8080/",
     "height": 332
    },
    "id": "TM8cW1FS6P6m",
    "outputId": "5c4ba300-b621-48f4-e7e5-398dc56b7617"
   },
   "outputs": [
    {
     "name": "stdout",
     "output_type": "stream",
     "text": [
      "[0.8320551614849687, 0.7882881101796135, 0.7193445039915539, 0.6338709738044364, 0.5605352876953695, 0.5075812979488968, 0.46911107865578955, 0.4388863655398718, 0.4124524966751687, 0.38838794621175193, 0.36602850024619565, 0.3448552458304963, 0.32446572520999467, 0.30498062326566183, 0.28629572619253846, 0.268581330323039, 0.25181793830436255, 0.23599271564317398, 0.22097974180747587, 0.2067423938168061, 0.19328900261395707, 0.18056417603456643, 0.1685871773135068, 0.1573547183712129, 0.14686289976434597]\n"
     ]
    },
    {
     "data": {
      "image/png": "[encoded data removed]",
      "text/plain": [
       "<Figure size 432x288 with 1 Axes>"
      ]
     },
     "metadata": {
      "needs_background": "light"
     },
     "output_type": "display_data"
    }
   ],
   "source": [
    "def power_iteration(U, G, v0, T=100):\n",
    "    vs = [v0]\n",
    "    v = v0\n",
    "    Ut = np.transpose(U)\n",
    "    \n",
    "    for i in range(T):\n",
    "        u = Ut.dot(v)\n",
    "        u = U.dot(u)\n",
    "        u = u + G.dot(v)\n",
    "        v = u/np.linalg.norm(u)\n",
    "        vs.append(v)\n",
    "\n",
    "    return v\n",
    "def scipy_default(X):\n",
    "    u,s,vt = scipy.sparse.linalg.svds(X,k=1)\n",
    "    return np.transpose(vt)\n",
    "\n",
    "import time\n",
    "\n",
    "n = 10000\n",
    "p = .01\n",
    "R = np.random.rand(n, n)\n",
    "O = np.zeros((n, n))\n",
    "O[R < p] = 1\n",
    "G = np.random.normal(0, 1, (n,n))\n",
    "G[O == 0] = 0\n",
    "\n",
    "k = 20\n",
    "U = np.random.normal(0, 1, (n,k))\n",
    "Z = (U @ U.T) + G\n",
    "\n",
    "distances1 = []\n",
    "s1 = []\n",
    "v0 = np.random.normal(0,1,(n,1))\n",
    "v0 = v0/np.linalg.norm(v0)\n",
    "\n",
    "Ts = np.arange(10, 260, 10)\n",
    "\n",
    "start = time.time();\n",
    "vtrue = scipy_default(Z)\n",
    "\n",
    "index = 1\n",
    "for T in Ts:\n",
    "    distance = 0\n",
    "    for i in range(10):\n",
    "        Vs = power_iteration(U, G, v0, T)\n",
    "        distance += np.linalg.norm(np.abs(Vs) - np.abs(vtrue))\n",
    "    distances1.append(distance / 10)\n",
    "s1.append(f'Power iteration')\n",
    "\n",
    "plt.plot(Ts, distances1, '--bo')\n",
    "plt.title('Power Iteration')\n",
    "plt.ylabel('Distance to optimum')\n",
    "plt.xlabel('Iterations')\n",
    "plt.show() "
   ]
  },
  {
   "cell_type": "code",
   "execution_count": null,
   "metadata": {
    "colab": {
     "base_uri": "https://localhost:8080/",
     "height": 295
    },
    "id": "m1xJNaYqMLxn",
    "outputId": "bb368ef5-6312-49c8-81bd-a26b0f9b32c8"
   },
   "outputs": [
    {
     "data": {
      "image/png": "[encoded data removed]",
      "text/plain": [
       "<Figure size 432x288 with 1 Axes>"
      ]
     },
     "metadata": {
      "needs_background": "light"
     },
     "output_type": "display_data"
    }
   ],
   "source": [
    "def power_iteration(U, G, v0, T=100):\n",
    "    vs = [v0]\n",
    "    v = v0\n",
    "    Ut = np.transpose(U)\n",
    "    \n",
    "    for i in range(T):\n",
    "        u = Ut.dot(v)\n",
    "        u = U.dot(u)\n",
    "        u = u + G.dot(v)\n",
    "        v = u/np.linalg.norm(u)\n",
    "        vs.append(v)\n",
    "\n",
    "    return v\n",
    "def scipy_default(X):\n",
    "    u,s,vt = scipy.sparse.linalg.svds(X,k=1)\n",
    "    return np.transpose(vt)\n",
    "\n",
    "import time\n",
    "\n",
    "n = 10000\n",
    "p = .01\n",
    "R = np.random.rand(n, n)\n",
    "O = np.zeros((n, n))\n",
    "O[R < p] = 1\n",
    "G = np.random.normal(0, 1, (n,n))\n",
    "G[O == 0] = 0\n",
    "\n",
    "k = 20\n",
    "U = np.random.normal(0, 1, (n,k))\n",
    "Z = (U @ U.T) + G\n",
    "\n",
    "distances1 = []\n",
    "s1 = []\n",
    "v0 = np.random.normal(0,1,(n,1))\n",
    "v0 = v0/np.linalg.norm(v0)\n",
    "newV = np.random.normal(0,0,(n,1))\n",
    "\n",
    "Ts = np.arange(10, 260, 10)\n",
    "\n",
    "start = time.time();\n",
    "vtrue = scipy_default(Z)\n",
    "\n",
    "index = 1\n",
    "for T in Ts:\n",
    "    distance = 0\n",
    "    for i in range(10):\n",
    "        Vs = power_iteration(U, G, v0, 10)\n",
    "        distance += np.linalg.norm(np.abs(Vs) - np.abs(vtrue))\n",
    "        newV = newV + Vs\n",
    "    v0 = newV / 10\n",
    "    distances1.append(distance / 10)\n",
    "s1.append(f'Power iteration')\n",
    "\n",
    "plt.plot(Ts, distances1, '--bo')\n",
    "plt.title('Power Iteration')\n",
    "plt.ylabel('Distance to optimum')\n",
    "plt.xlabel('Iterations')\n",
    "plt.show() "
   ]
  },
  {
   "cell_type": "code",
   "execution_count": 12,
   "metadata": {
    "colab": {
     "base_uri": "https://localhost:8080/",
     "height": 295
    },
    "id": "bXYHKtQyGAzx",
    "outputId": "77a331c6-fb12-40fc-ffd4-d5671f686a32"
   },
   "outputs": [
    {
     "data": {
      "image/png": "[encoded data removed]",
      "text/plain": [
       "<Figure size 432x288 with 1 Axes>"
      ]
     },
     "metadata": {
      "needs_background": "light"
     },
     "output_type": "display_data"
    }
   ],
   "source": [
    "\n",
    "def power_iteration(U, G, v0, T=100):\n",
    "    vs = [v0]\n",
    "    v = v0\n",
    "    Ut = np.transpose(U)\n",
    "    \n",
    "    for i in range(T):\n",
    "        u = Ut.dot(v)\n",
    "        u = U.dot(u)\n",
    "        u = u + G.dot(v)\n",
    "        v = u/np.linalg.norm(u)\n",
    "        vs.append(v)\n",
    "\n",
    "    return v\n",
    "def scipy_default(X):\n",
    "    u,s,vt = scipy.sparse.linalg.svds(X,k=1)\n",
    "    return np.transpose(vt)\n",
    "\n",
    "import time\n",
    "\n",
    "n = 10000\n",
    "p = .01\n",
    "R = np.random.rand(n, n)\n",
    "O = np.zeros((n, n))\n",
    "O[R < p] = 1\n",
    "G = np.random.normal(0, 1, (n,n))\n",
    "G[O == 0] = 0\n",
    "\n",
    "k = 20\n",
    "U = np.random.normal(0, 1, (n,k))\n",
    "\n",
    "u,s,vt = scipy.sparse.linalg.svds(U,k=1)\n",
    "a = 0.07\n",
    "U = U + a * s[0] * np.outer(u, vt)\n",
    "\n",
    "Z = (U @ U.T) + G\n",
    "\n",
    "distances1 = []\n",
    "s1 = []\n",
    "v0 = np.random.normal(0,1,(n,1))\n",
    "v0 = v0/np.linalg.norm(v0)\n",
    "newV = np.random.normal(0,0,(n,1))\n",
    "\n",
    "Ts = np.arange(10, 110, 10)\n",
    "\n",
    "start = time.time();\n",
    "vtrue = scipy_default(Z)\n",
    "\n",
    "index = 1\n",
    "for T in Ts:\n",
    "    distance = 0\n",
    "    for i in range(10):\n",
    "        Vs = power_iteration(U, G, v0, 10)\n",
    "        distance += np.linalg.norm(np.abs(Vs) - np.abs(vtrue))\n",
    "        newV = newV + Vs\n",
    "    v0 = newV / 10\n",
    "    distances1.append(distance / 10)\n",
    "s1.append(f'Power iteration')\n",
    "\n",
    "plt.plot(Ts, distances1, '--bo')\n",
    "plt.title('Power Iteration')\n",
    "plt.ylabel('Distance to optimum')\n",
    "plt.xlabel('Iterations')\n",
    "plt.show() "
   ]
  }
 ],
 "metadata": {
  "colab": {
   "collapsed_sections": [],
   "name": "Q5.ipynb",
   "provenance": []
  },
  "kernelspec": {
   "display_name": "Python 3 (ipykernel)",
   "language": "python",
   "name": "python3"
  },
  "language_info": {
   "codemirror_mode": {
    "name": "ipython",
    "version": 3
   },
   "file_extension": ".py",
   "mimetype": "text/x-python",
   "name": "python",
   "nbconvert_exporter": "python",
   "pygments_lexer": "ipython3",
   "version": "3.9.7"
  }
 },
 "nbformat": 4,
 "nbformat_minor": 1
}
