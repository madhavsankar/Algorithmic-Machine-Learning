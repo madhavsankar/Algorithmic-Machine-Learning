{
 "cells": [
  {
   "cell_type": "code",
   "execution_count": null,
   "metadata": {
    "colab": {
     "base_uri": "https://localhost:8080/"
    },
    "id": "NQd4DTlRC2MV",
    "outputId": "058069f5-f5cc-4a58-ff1a-1c5389f0f388"
   },
   "outputs": [
    {
     "name": "stdout",
     "output_type": "stream",
     "text": [
      "Collecting celluloid\n",
      "  Downloading celluloid-0.2.0-py3-none-any.whl (5.4 kB)\n",
      "Requirement already satisfied: matplotlib in /usr/local/lib/python3.7/dist-packages (from celluloid) (3.2.2)\n",
      "Requirement already satisfied: kiwisolver>=1.0.1 in /usr/local/lib/python3.7/dist-packages (from matplotlib->celluloid) (1.4.2)\n",
      "Requirement already satisfied: pyparsing!=2.0.4,!=2.1.2,!=2.1.6,>=2.0.1 in /usr/local/lib/python3.7/dist-packages (from matplotlib->celluloid) (3.0.8)\n",
      "Requirement already satisfied: cycler>=0.10 in /usr/local/lib/python3.7/dist-packages (from matplotlib->celluloid) (0.11.0)\n",
      "Requirement already satisfied: python-dateutil>=2.1 in /usr/local/lib/python3.7/dist-packages (from matplotlib->celluloid) (2.8.2)\n",
      "Requirement already satisfied: numpy>=1.11 in /usr/local/lib/python3.7/dist-packages (from matplotlib->celluloid) (1.21.6)\n",
      "Requirement already satisfied: typing-extensions in /usr/local/lib/python3.7/dist-packages (from kiwisolver>=1.0.1->matplotlib->celluloid) (4.2.0)\n",
      "Requirement already satisfied: six>=1.5 in /usr/local/lib/python3.7/dist-packages (from python-dateutil>=2.1->matplotlib->celluloid) (1.15.0)\n",
      "Installing collected packages: celluloid\n",
      "Successfully installed celluloid-0.2.0\n"
     ]
    }
   ],
   "source": [
    "!pip install celluloid\n",
    "import numpy as np\n",
    "import scipy as scipy\n",
    "import matplotlib\n",
    "import matplotlib.pyplot as plt\n",
    "from matplotlib import cm\n",
    "from matplotlib.ticker import LinearLocator\n",
    "from mpl_toolkits.mplot3d import Axes3D\n",
    "import gzip\n",
    "from sklearn.preprocessing import OneHotEncoder\n",
    "from scipy.special import expit\n",
    "import celluloid\n",
    "from celluloid import Camera\n",
    "from matplotlib import animation\n",
    "from IPython.display import HTML\n",
    "from matplotlib.lines import Line2D\n",
    "\n",
    "np.random.seed(2021)\n",
    "\n",
    "def lplot(Ys,labels=['1','2','3','4','5','6'],ylabel='Function value'):\n",
    "    \"\"\"Line plot of the Y values. (Same as above, but no animation).\n",
    "    Ys is a list where each element is an array of numbers to plot.\n",
    "    \"\"\"\n",
    "    colors = ['blue','red','green','black','cyan','purple','pink']\n",
    "    fig, ax = plt.subplots(figsize=(6,6))\n",
    "    T = len(Ys[0])\n",
    "    #plt.yscale('log')\n",
    "    handles = []\n",
    "    for i in range(len(Ys)):\n",
    "        handles.append(Line2D([0], [0], color=colors[i], label=labels[i]))\n",
    "    plt.legend(handles = handles, loc = 'upper right')\n",
    "    plt.xlabel('Step')\n",
    "    plt.ylabel(ylabel)\n",
    "    for j in range(len(Ys)):\n",
    "        plt.plot(range(T),Ys[j][:T],color=colors[j],marker='o')"
   ]
  },
  {
   "cell_type": "code",
   "execution_count": null,
   "metadata": {
    "id": "IDxAYrirC8Sg"
   },
   "outputs": [],
   "source": [
    "def cost(X, Y, O):\n",
    "    loss = 0\n",
    "\n",
    "    for i in range(len(X)):\n",
    "        for j in range(len(X[0])):\n",
    "            if(O[i][j] == 1):\n",
    "                loss += ((X[i][j] - Y[i][j]) ** 2)\n",
    "\n",
    "    return loss\n",
    "\n",
    "def gradient(X, Y, O):\n",
    "    gr = np.multiply(X - Y, O)\n",
    "\n",
    "    return gr * (-2)"
   ]
  },
  {
   "cell_type": "code",
   "execution_count": null,
   "metadata": {
    "id": "owfAzZDGC-KC"
   },
   "outputs": [],
   "source": [
    "def SVP(X, O, lr, T=1000):\n",
    "    k = 5\n",
    "    n = 1000; d = 500;\n",
    "    X_pred = np.random.normal(0, 1, (n, d))\n",
    "    costs = [] \n",
    "\n",
    "    for i in range(T):\n",
    "        c = cost(X, X_pred, O)\n",
    "        Y = X_pred - lr * gradient(X, X_pred, O)\n",
    "        utrue, strue, vtrue = scipy.sparse.linalg.svds(Y, k = 5)\n",
    "        X_pred = utrue @ np.diag(strue)@ vtrue\n",
    "        costs.append(c)\n",
    "\n",
    "    return np.array(costs)"
   ]
  },
  {
   "cell_type": "code",
   "execution_count": null,
   "metadata": {
    "colab": {
     "base_uri": "https://localhost:8080/",
     "height": 388
    },
    "id": "uAqtNCA2DC7h",
    "outputId": "c0c551d7-fb55-4d72-8d73-36600952e748"
   },
   "outputs": [
    {
     "data": {
      "image/png": "[encoded data removed]",
      "text/plain": [
       "<Figure size 432x432 with 1 Axes>"
      ]
     },
     "metadata": {
      "needs_background": "light"
     },
     "output_type": "display_data"
    }
   ],
   "source": [
    "lrs = [0.05, 0.5, 0.75]\n",
    "\n",
    "n = 1000\n",
    "d = 500\n",
    "p = .1\n",
    "R = np.random.rand(n, d)\n",
    "O = np.zeros((n, d))\n",
    "O[R < p] = 1\n",
    "\n",
    "k = 5\n",
    "U = np.random.normal(0, 1, (n,k))\n",
    "V = np.random.normal(0, 1, (d,k))\n",
    "X = np.matmul(U, np.transpose(V))\n",
    "\n",
    "distances = []\n",
    "s1 = []\n",
    "\n",
    "for lr in lrs:\n",
    "    costs = SVP(X, O, lr)\n",
    "    s1.append(f'SVP, lr~{lr}')\n",
    "    distances.append(costs)\n",
    "\n",
    "lplot(distances, s1, 'Cost')\n"
   ]
  }
 ],
 "metadata": {
  "colab": {
   "collapsed_sections": [],
   "name": "Q4.ipynb",
   "provenance": []
  },
  "kernelspec": {
   "display_name": "Python 3 (ipykernel)",
   "language": "python",
   "name": "python3"
  },
  "language_info": {
   "codemirror_mode": {
    "name": "ipython",
    "version": 3
   },
   "file_extension": ".py",
   "mimetype": "text/x-python",
   "name": "python",
   "nbconvert_exporter": "python",
   "pygments_lexer": "ipython3",
   "version": "3.9.7"
  }
 },
 "nbformat": 4,
 "nbformat_minor": 1
}
